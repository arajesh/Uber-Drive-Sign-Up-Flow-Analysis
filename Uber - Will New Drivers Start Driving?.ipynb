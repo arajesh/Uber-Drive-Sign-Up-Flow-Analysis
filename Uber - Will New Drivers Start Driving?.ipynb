{
 "cells": [
  {
   "cell_type": "code",
   "execution_count": 1205,
   "id": "762e9f3c",
   "metadata": {},
   "outputs": [],
   "source": [
    "import pandas as pd\n",
    "import numpy as np\n",
    "import matplotlib.pyplot as plt\n",
    "from sklearn.model_selection import train_test_split\n",
    "import category_encoders as ce\n",
    "from datetime import datetime\n",
    "from scipy.stats import chi2_contingency\n",
    "from scipy.stats import chi2"
   ]
  },
  {
   "cell_type": "code",
   "execution_count": 1206,
   "id": "208d9b92",
   "metadata": {},
   "outputs": [],
   "source": [
    "df = pd.read_csv('ds_challenge_v2_1_data.csv')"
   ]
  },
  {
   "cell_type": "code",
   "execution_count": 1207,
   "id": "7e7714af",
   "metadata": {},
   "outputs": [
    {
     "data": {
      "text/plain": [
       "id                        int64\n",
       "city_name                object\n",
       "signup_os                object\n",
       "signup_channel           object\n",
       "signup_date              object\n",
       "bgc_date                 object\n",
       "vehicle_added_date       object\n",
       "vehicle_make             object\n",
       "vehicle_model            object\n",
       "vehicle_year            float64\n",
       "first_completed_date     object\n",
       "dtype: object"
      ]
     },
     "execution_count": 1207,
     "metadata": {},
     "output_type": "execute_result"
    }
   ],
   "source": [
    "df.dtypes"
   ]
  },
  {
   "cell_type": "code",
   "execution_count": 1208,
   "id": "25feaa12",
   "metadata": {},
   "outputs": [
    {
     "data": {
      "text/html": [
       "<div>\n",
       "<style scoped>\n",
       "    .dataframe tbody tr th:only-of-type {\n",
       "        vertical-align: middle;\n",
       "    }\n",
       "\n",
       "    .dataframe tbody tr th {\n",
       "        vertical-align: top;\n",
       "    }\n",
       "\n",
       "    .dataframe thead th {\n",
       "        text-align: right;\n",
       "    }\n",
       "</style>\n",
       "<table border=\"1\" class=\"dataframe\">\n",
       "  <thead>\n",
       "    <tr style=\"text-align: right;\">\n",
       "      <th></th>\n",
       "      <th>id</th>\n",
       "      <th>city_name</th>\n",
       "      <th>signup_os</th>\n",
       "      <th>signup_channel</th>\n",
       "      <th>signup_date</th>\n",
       "      <th>bgc_date</th>\n",
       "      <th>vehicle_added_date</th>\n",
       "      <th>vehicle_make</th>\n",
       "      <th>vehicle_model</th>\n",
       "      <th>vehicle_year</th>\n",
       "      <th>first_completed_date</th>\n",
       "    </tr>\n",
       "  </thead>\n",
       "  <tbody>\n",
       "    <tr>\n",
       "      <th>0</th>\n",
       "      <td>1</td>\n",
       "      <td>Strark</td>\n",
       "      <td>ios web</td>\n",
       "      <td>Paid</td>\n",
       "      <td>1/2/16</td>\n",
       "      <td>NaN</td>\n",
       "      <td>NaN</td>\n",
       "      <td>NaN</td>\n",
       "      <td>NaN</td>\n",
       "      <td>NaN</td>\n",
       "      <td>NaN</td>\n",
       "    </tr>\n",
       "    <tr>\n",
       "      <th>1</th>\n",
       "      <td>2</td>\n",
       "      <td>Strark</td>\n",
       "      <td>windows</td>\n",
       "      <td>Paid</td>\n",
       "      <td>1/21/16</td>\n",
       "      <td>NaN</td>\n",
       "      <td>NaN</td>\n",
       "      <td>NaN</td>\n",
       "      <td>NaN</td>\n",
       "      <td>NaN</td>\n",
       "      <td>NaN</td>\n",
       "    </tr>\n",
       "    <tr>\n",
       "      <th>2</th>\n",
       "      <td>3</td>\n",
       "      <td>Wrouver</td>\n",
       "      <td>windows</td>\n",
       "      <td>Organic</td>\n",
       "      <td>1/11/16</td>\n",
       "      <td>1/11/16</td>\n",
       "      <td>NaN</td>\n",
       "      <td>NaN</td>\n",
       "      <td>NaN</td>\n",
       "      <td>NaN</td>\n",
       "      <td>NaN</td>\n",
       "    </tr>\n",
       "    <tr>\n",
       "      <th>3</th>\n",
       "      <td>4</td>\n",
       "      <td>Berton</td>\n",
       "      <td>android web</td>\n",
       "      <td>Referral</td>\n",
       "      <td>1/29/16</td>\n",
       "      <td>2/3/16</td>\n",
       "      <td>2/3/16</td>\n",
       "      <td>Toyota</td>\n",
       "      <td>Corolla</td>\n",
       "      <td>2016.0</td>\n",
       "      <td>2/3/16</td>\n",
       "    </tr>\n",
       "    <tr>\n",
       "      <th>4</th>\n",
       "      <td>5</td>\n",
       "      <td>Strark</td>\n",
       "      <td>android web</td>\n",
       "      <td>Referral</td>\n",
       "      <td>1/10/16</td>\n",
       "      <td>1/25/16</td>\n",
       "      <td>1/26/16</td>\n",
       "      <td>Hyundai</td>\n",
       "      <td>Sonata</td>\n",
       "      <td>2016.0</td>\n",
       "      <td>NaN</td>\n",
       "    </tr>\n",
       "  </tbody>\n",
       "</table>\n",
       "</div>"
      ],
      "text/plain": [
       "   id city_name    signup_os signup_channel signup_date bgc_date  \\\n",
       "0   1    Strark      ios web           Paid      1/2/16      NaN   \n",
       "1   2    Strark      windows           Paid     1/21/16      NaN   \n",
       "2   3   Wrouver      windows        Organic     1/11/16  1/11/16   \n",
       "3   4    Berton  android web       Referral     1/29/16   2/3/16   \n",
       "4   5    Strark  android web       Referral     1/10/16  1/25/16   \n",
       "\n",
       "  vehicle_added_date vehicle_make vehicle_model  vehicle_year  \\\n",
       "0                NaN          NaN           NaN           NaN   \n",
       "1                NaN          NaN           NaN           NaN   \n",
       "2                NaN          NaN           NaN           NaN   \n",
       "3             2/3/16       Toyota       Corolla        2016.0   \n",
       "4            1/26/16      Hyundai        Sonata        2016.0   \n",
       "\n",
       "  first_completed_date  \n",
       "0                  NaN  \n",
       "1                  NaN  \n",
       "2                  NaN  \n",
       "3               2/3/16  \n",
       "4                  NaN  "
      ]
     },
     "execution_count": 1208,
     "metadata": {},
     "output_type": "execute_result"
    }
   ],
   "source": [
    "df.head()"
   ]
  },
  {
   "cell_type": "code",
   "execution_count": 1122,
   "id": "c88f730d",
   "metadata": {},
   "outputs": [
    {
     "data": {
      "text/plain": [
       "<AxesSubplot:xlabel='null_count', ylabel='index'>"
      ]
     },
     "execution_count": 1122,
     "metadata": {},
     "output_type": "execute_result"
    },
    {
     "data": {
      "image/png": "[encoded data removed]",
      "text/plain": [
       "<Figure size 640x480 with 1 Axes>"
      ]
     },
     "metadata": {},
     "output_type": "display_data"
    }
   ],
   "source": [
    "# Here I notice that over 85% of first_completed_dates are nulls indicating that only 15% of drivers who signed up completed their first ride. This going to be our target metric.\n",
    "# More than 75% of the rows about Vehicle added date, Vehicle Information are empty hence I will be ignoring them. \n",
    "nulls = df.isnull().sum()\n",
    "nulls = nulls[nulls!=0]\n",
    "nulls = nulls.reset_index(name = 'null_count')\n",
    "nulls = nulls.sort_values('null_count', ascending=False)\n",
    "sns.barplot(data=nulls, x='null_count', y='index')"
   ]
  },
  {
   "cell_type": "code",
   "execution_count": 1123,
   "id": "caa3b7e8",
   "metadata": {},
   "outputs": [],
   "source": [
    "#Dropping the Vehicle information columns\n",
    "df = df.drop('vehicle_added_date', axis = 1)\n",
    "df = df.drop('vehicle_make', axis = 1)\n",
    "df = df.drop('vehicle_model', axis = 1)\n",
    "df = df.drop('vehicle_year', axis = 1)"
   ]
  },
  {
   "cell_type": "code",
   "execution_count": 1124,
   "id": "040b7abc",
   "metadata": {},
   "outputs": [],
   "source": [
    "# ~10% of rows are NAs within SignupOS feature. We will be ignoring the rows to eliminate the nulls.\n",
    "df = df[df['signup_os'].notnull()]"
   ]
  },
  {
   "cell_type": "code",
   "execution_count": 1125,
   "id": "17809fa5",
   "metadata": {},
   "outputs": [],
   "source": [
    "#Data type conversions\n",
    "date_format = \"%m/%d/%Y\"\n",
    "df['first_completed_date'] = pd.to_datetime(df['first_completed_date'])\n",
    "df['signup_date'] = pd.to_datetime(df['signup_date'])\n",
    "df['bgc_date'] = pd.to_datetime(df['bgc_date'])"
   ]
  },
  {
   "cell_type": "code",
   "execution_count": 1126,
   "id": "6de56721",
   "metadata": {},
   "outputs": [],
   "source": [
    "# I am interested to know how long a driver takes to provide Background Check consent from the time they signedup.\n",
    "# I creating a new field that shows the time in days between the above two events\n",
    "df['signup_to_bgc'] = df['bgc_date'] - df['signup_date']\n",
    "df['signup_to_bgc'] = df['signup_to_bgc'].astype(str)\n",
    "df['signup_to_bgc'] = df['signup_to_bgc'].str.replace(' days', '')\n",
    "\n"
   ]
  },
  {
   "cell_type": "code",
   "execution_count": 1127,
   "id": "57fcc20a",
   "metadata": {},
   "outputs": [],
   "source": [
    "# Here I am replacing all the rows with a ride completed date with a 1 incdicating a success and a Null with 0\n",
    "df['first_ride'] = df['first_completed_date']\n",
    "df['first_ride'].fillna(0, inplace=True)\n",
    "df['first_ride'] = df['first_ride'].apply(lambda x:1 if x!=0 else 0)"
   ]
  },
  {
   "cell_type": "code",
   "execution_count": 1128,
   "id": "ae9d540c",
   "metadata": {},
   "outputs": [],
   "source": [
    "df['signup_to_bgc'] = df['signup_to_bgc'].replace('NaT', np.nan)\n",
    "df['signup_to_bgc'] = df['signup_to_bgc'].astype('Int64')"
   ]
  },
  {
   "cell_type": "code",
   "execution_count": 1130,
   "id": "f539b083",
   "metadata": {},
   "outputs": [
    {
     "data": {
      "text/plain": [
       "id                          0\n",
       "city_name                   0\n",
       "signup_os                   0\n",
       "signup_channel              0\n",
       "signup_date                 0\n",
       "bgc_date                16956\n",
       "first_completed_date    41835\n",
       "signup_to_bgc           16956\n",
       "first_ride                  0\n",
       "dtype: int64"
      ]
     },
     "execution_count": 1130,
     "metadata": {},
     "output_type": "execute_result"
    }
   ],
   "source": [
    "df.isnull().sum()"
   ]
  },
  {
   "cell_type": "code",
   "execution_count": 1131,
   "id": "46d7149a",
   "metadata": {},
   "outputs": [],
   "source": [
    "# I noticed that over 16k drivers did not consent to a background check and have not completed their first ride as well.\n",
    "# I am going to be considering the rows of drivers who consented for background check as it helps us analyze on an important metrics we calculated - signup_to_bgc\n",
    "df = df[df['signup_to_bgc'].notnull()]\n",
    "df = df.drop('first_completed_date', axis=1 )"
   ]
  },
  {
   "cell_type": "code",
   "execution_count": 1132,
   "id": "c1fa1dc1",
   "metadata": {},
   "outputs": [
    {
     "data": {
      "text/html": [
       "<div>\n",
       "<style scoped>\n",
       "    .dataframe tbody tr th:only-of-type {\n",
       "        vertical-align: middle;\n",
       "    }\n",
       "\n",
       "    .dataframe tbody tr th {\n",
       "        vertical-align: top;\n",
       "    }\n",
       "\n",
       "    .dataframe thead th {\n",
       "        text-align: right;\n",
       "    }\n",
       "</style>\n",
       "<table border=\"1\" class=\"dataframe\">\n",
       "  <thead>\n",
       "    <tr style=\"text-align: right;\">\n",
       "      <th></th>\n",
       "      <th>id</th>\n",
       "      <th>city_name</th>\n",
       "      <th>signup_os</th>\n",
       "      <th>signup_channel</th>\n",
       "      <th>signup_date</th>\n",
       "      <th>bgc_date</th>\n",
       "      <th>signup_to_bgc</th>\n",
       "      <th>first_ride</th>\n",
       "    </tr>\n",
       "  </thead>\n",
       "  <tbody>\n",
       "    <tr>\n",
       "      <th>2</th>\n",
       "      <td>3</td>\n",
       "      <td>Wrouver</td>\n",
       "      <td>windows</td>\n",
       "      <td>Organic</td>\n",
       "      <td>2016-01-11</td>\n",
       "      <td>2016-01-11</td>\n",
       "      <td>0</td>\n",
       "      <td>0</td>\n",
       "    </tr>\n",
       "    <tr>\n",
       "      <th>3</th>\n",
       "      <td>4</td>\n",
       "      <td>Berton</td>\n",
       "      <td>android web</td>\n",
       "      <td>Referral</td>\n",
       "      <td>2016-01-29</td>\n",
       "      <td>2016-02-03</td>\n",
       "      <td>5</td>\n",
       "      <td>1</td>\n",
       "    </tr>\n",
       "    <tr>\n",
       "      <th>4</th>\n",
       "      <td>5</td>\n",
       "      <td>Strark</td>\n",
       "      <td>android web</td>\n",
       "      <td>Referral</td>\n",
       "      <td>2016-01-10</td>\n",
       "      <td>2016-01-25</td>\n",
       "      <td>15</td>\n",
       "      <td>0</td>\n",
       "    </tr>\n",
       "    <tr>\n",
       "      <th>5</th>\n",
       "      <td>6</td>\n",
       "      <td>Strark</td>\n",
       "      <td>android web</td>\n",
       "      <td>Referral</td>\n",
       "      <td>2016-01-18</td>\n",
       "      <td>2016-01-18</td>\n",
       "      <td>0</td>\n",
       "      <td>0</td>\n",
       "    </tr>\n",
       "    <tr>\n",
       "      <th>6</th>\n",
       "      <td>7</td>\n",
       "      <td>Strark</td>\n",
       "      <td>ios web</td>\n",
       "      <td>Paid</td>\n",
       "      <td>2016-01-14</td>\n",
       "      <td>2016-01-16</td>\n",
       "      <td>2</td>\n",
       "      <td>1</td>\n",
       "    </tr>\n",
       "  </tbody>\n",
       "</table>\n",
       "</div>"
      ],
      "text/plain": [
       "   id city_name    signup_os signup_channel signup_date   bgc_date  \\\n",
       "2   3   Wrouver      windows        Organic  2016-01-11 2016-01-11   \n",
       "3   4    Berton  android web       Referral  2016-01-29 2016-02-03   \n",
       "4   5    Strark  android web       Referral  2016-01-10 2016-01-25   \n",
       "5   6    Strark  android web       Referral  2016-01-18 2016-01-18   \n",
       "6   7    Strark      ios web           Paid  2016-01-14 2016-01-16   \n",
       "\n",
       "   signup_to_bgc  first_ride  \n",
       "2              0           0  \n",
       "3              5           1  \n",
       "4             15           0  \n",
       "5              0           0  \n",
       "6              2           1  "
      ]
     },
     "execution_count": 1132,
     "metadata": {},
     "output_type": "execute_result"
    }
   ],
   "source": [
    "df.head()"
   ]
  },
  {
   "cell_type": "code",
   "execution_count": 1133,
   "id": "c105589d",
   "metadata": {},
   "outputs": [
    {
     "data": {
      "text/plain": [
       "id                0\n",
       "city_name         0\n",
       "signup_os         0\n",
       "signup_channel    0\n",
       "signup_date       0\n",
       "bgc_date          0\n",
       "signup_to_bgc     0\n",
       "first_ride        0\n",
       "dtype: int64"
      ]
     },
     "execution_count": 1133,
     "metadata": {},
     "output_type": "execute_result"
    }
   ],
   "source": [
    "#Completed cleaning up all the Null rows in the dataset\n",
    "df.isnull().sum()"
   ]
  },
  {
   "cell_type": "code",
   "execution_count": 1135,
   "id": "d01af332",
   "metadata": {},
   "outputs": [
    {
     "data": {
      "text/plain": [
       "30868"
      ]
     },
     "execution_count": 1135,
     "metadata": {},
     "output_type": "execute_result"
    }
   ],
   "source": [
    "len(df)"
   ]
  },
  {
   "cell_type": "code",
   "execution_count": 1136,
   "id": "10c57164",
   "metadata": {},
   "outputs": [],
   "source": [
    "#Filtered some columns to a new dataframe to plot the data and get an understanding of the data\n",
    "stacked = df[['city_name','signup_os','signup_to_bgc','first_ride', 'signup_channel' ]]"
   ]
  },
  {
   "cell_type": "code",
   "execution_count": 1137,
   "id": "80765189",
   "metadata": {},
   "outputs": [
    {
     "data": {
      "text/html": [
       "<div>\n",
       "<style scoped>\n",
       "    .dataframe tbody tr th:only-of-type {\n",
       "        vertical-align: middle;\n",
       "    }\n",
       "\n",
       "    .dataframe tbody tr th {\n",
       "        vertical-align: top;\n",
       "    }\n",
       "\n",
       "    .dataframe thead th {\n",
       "        text-align: right;\n",
       "    }\n",
       "</style>\n",
       "<table border=\"1\" class=\"dataframe\">\n",
       "  <thead>\n",
       "    <tr style=\"text-align: right;\">\n",
       "      <th></th>\n",
       "      <th>city_name</th>\n",
       "      <th>signup_os</th>\n",
       "      <th>signup_to_bgc</th>\n",
       "      <th>first_ride</th>\n",
       "      <th>signup_channel</th>\n",
       "    </tr>\n",
       "  </thead>\n",
       "  <tbody>\n",
       "    <tr>\n",
       "      <th>2</th>\n",
       "      <td>Wrouver</td>\n",
       "      <td>windows</td>\n",
       "      <td>0</td>\n",
       "      <td>0</td>\n",
       "      <td>Organic</td>\n",
       "    </tr>\n",
       "    <tr>\n",
       "      <th>3</th>\n",
       "      <td>Berton</td>\n",
       "      <td>android web</td>\n",
       "      <td>5</td>\n",
       "      <td>1</td>\n",
       "      <td>Referral</td>\n",
       "    </tr>\n",
       "    <tr>\n",
       "      <th>4</th>\n",
       "      <td>Strark</td>\n",
       "      <td>android web</td>\n",
       "      <td>15</td>\n",
       "      <td>0</td>\n",
       "      <td>Referral</td>\n",
       "    </tr>\n",
       "    <tr>\n",
       "      <th>5</th>\n",
       "      <td>Strark</td>\n",
       "      <td>android web</td>\n",
       "      <td>0</td>\n",
       "      <td>0</td>\n",
       "      <td>Referral</td>\n",
       "    </tr>\n",
       "    <tr>\n",
       "      <th>6</th>\n",
       "      <td>Strark</td>\n",
       "      <td>ios web</td>\n",
       "      <td>2</td>\n",
       "      <td>1</td>\n",
       "      <td>Paid</td>\n",
       "    </tr>\n",
       "  </tbody>\n",
       "</table>\n",
       "</div>"
      ],
      "text/plain": [
       "  city_name    signup_os  signup_to_bgc  first_ride signup_channel\n",
       "2   Wrouver      windows              0           0        Organic\n",
       "3    Berton  android web              5           1       Referral\n",
       "4    Strark  android web             15           0       Referral\n",
       "5    Strark  android web              0           0       Referral\n",
       "6    Strark      ios web              2           1           Paid"
      ]
     },
     "execution_count": 1137,
     "metadata": {},
     "output_type": "execute_result"
    }
   ],
   "source": [
    "stacked.head()"
   ]
  },
  {
   "cell_type": "code",
   "execution_count": 1162,
   "id": "55eb76e1",
   "metadata": {},
   "outputs": [],
   "source": [
    "pie = df.groupby(['first_ride'])['id'].count().reset_index()\n",
    "pie['label'] = ['First Ride - Not Completed', 'First Ride - Completed']"
   ]
  },
  {
   "cell_type": "code",
   "execution_count": 1163,
   "id": "4ade55c7",
   "metadata": {},
   "outputs": [
    {
     "data": {
      "text/html": [
       "<div>\n",
       "<style scoped>\n",
       "    .dataframe tbody tr th:only-of-type {\n",
       "        vertical-align: middle;\n",
       "    }\n",
       "\n",
       "    .dataframe tbody tr th {\n",
       "        vertical-align: top;\n",
       "    }\n",
       "\n",
       "    .dataframe thead th {\n",
       "        text-align: right;\n",
       "    }\n",
       "</style>\n",
       "<table border=\"1\" class=\"dataframe\">\n",
       "  <thead>\n",
       "    <tr style=\"text-align: right;\">\n",
       "      <th></th>\n",
       "      <th>first_ride</th>\n",
       "      <th>id</th>\n",
       "      <th>label</th>\n",
       "    </tr>\n",
       "  </thead>\n",
       "  <tbody>\n",
       "    <tr>\n",
       "      <th>0</th>\n",
       "      <td>0</td>\n",
       "      <td>24879</td>\n",
       "      <td>First Ride - Not Completed</td>\n",
       "    </tr>\n",
       "    <tr>\n",
       "      <th>1</th>\n",
       "      <td>1</td>\n",
       "      <td>5989</td>\n",
       "      <td>First Ride - Completed</td>\n",
       "    </tr>\n",
       "  </tbody>\n",
       "</table>\n",
       "</div>"
      ],
      "text/plain": [
       "   first_ride     id                       label\n",
       "0           0  24879  First Ride - Not Completed\n",
       "1           1   5989      First Ride - Completed"
      ]
     },
     "execution_count": 1163,
     "metadata": {},
     "output_type": "execute_result"
    }
   ],
   "source": [
    "pie.head(6)"
   ]
  },
  {
   "cell_type": "code",
   "execution_count": 1167,
   "id": "abc703e3",
   "metadata": {},
   "outputs": [
    {
     "data": {
      "text/plain": [
       "([<matplotlib.patches.Wedge at 0x7fc9e866dfd0>,\n",
       "  <matplotlib.patches.Wedge at 0x7fc9e867b9a0>],\n",
       " [Text(-0.9019083972721935, 0.629731087790577, 'First Ride - Not Completed'),\n",
       "  Text(0.901908426752032, -0.6297310455691976, 'First Ride - Completed')],\n",
       " [Text(-0.49195003487574185, 0.34348968424940557, '80.6%'),\n",
       "  Text(0.4919500509556537, -0.3434896612195623, '19.4%')])"
      ]
     },
     "execution_count": 1167,
     "metadata": {},
     "output_type": "execute_result"
    },
    {
     "data": {
      "image/png": "[encoded data removed]",
      "text/plain": [
       "<Figure size 640x480 with 1 Axes>"
      ]
     },
     "metadata": {},
     "output_type": "display_data"
    }
   ],
   "source": [
    "# ~ 80% of drivers have not completed their first ride\n",
    "plt.pie(x= pie.id, labels=pie.label, shadow = True, autopct='%.1f%%')"
   ]
  },
  {
   "cell_type": "code",
   "execution_count": 1179,
   "id": "eaff29fa",
   "metadata": {},
   "outputs": [
    {
     "name": "stderr",
     "output_type": "stream",
     "text": [
      "/var/folders/cy/jqgb_3bd0t94k2zsfjl68hy00000gn/T/ipykernel_19478/4223216779.py:5: SettingWithCopyWarning: \n",
      "A value is trying to be set on a copy of a slice from a DataFrame.\n",
      "Try using .loc[row_indexer,col_indexer] = value instead\n",
      "\n",
      "See the caveats in the documentation: https://pandas.pydata.org/pandas-docs/stable/user_guide/indexing.html#returning-a-view-versus-a-copy\n",
      "  pie3['label'] = ['First Ride - Not Completed', 'First Ride - Completed']\n",
      "/var/folders/cy/jqgb_3bd0t94k2zsfjl68hy00000gn/T/ipykernel_19478/4223216779.py:6: SettingWithCopyWarning: \n",
      "A value is trying to be set on a copy of a slice from a DataFrame.\n",
      "Try using .loc[row_indexer,col_indexer] = value instead\n",
      "\n",
      "See the caveats in the documentation: https://pandas.pydata.org/pandas-docs/stable/user_guide/indexing.html#returning-a-view-versus-a-copy\n",
      "  pie4['label'] = ['First Ride - Not Completed', 'First Ride - Completed']\n",
      "/var/folders/cy/jqgb_3bd0t94k2zsfjl68hy00000gn/T/ipykernel_19478/4223216779.py:7: SettingWithCopyWarning: \n",
      "A value is trying to be set on a copy of a slice from a DataFrame.\n",
      "Try using .loc[row_indexer,col_indexer] = value instead\n",
      "\n",
      "See the caveats in the documentation: https://pandas.pydata.org/pandas-docs/stable/user_guide/indexing.html#returning-a-view-versus-a-copy\n",
      "  pie5['label'] = ['First Ride - Not Completed', 'First Ride - Completed']\n"
     ]
    }
   ],
   "source": [
    "pie2 = df.groupby(['city_name','first_ride'])['id'].count().reset_index()\n",
    "pie3 = pie2[pie2['city_name'] =='Berton']\n",
    "pie4 = pie2[pie2['city_name'] =='Strark']\n",
    "pie5 = pie2[pie2['city_name'] =='Wrouver']\n",
    "pie3['label'] = ['First Ride - Not Completed', 'First Ride - Completed']\n",
    "pie4['label'] = ['First Ride - Not Completed', 'First Ride - Completed']\n",
    "pie5['label'] = ['First Ride - Not Completed', 'First Ride - Completed']"
   ]
  },
  {
   "cell_type": "code",
   "execution_count": 1204,
   "id": "ca31c41b",
   "metadata": {},
   "outputs": [
    {
     "data": {
      "image/png": "[encoded data removed]",
      "text/plain": [
       "<Figure size 1500x1500 with 3 Axes>"
      ]
     },
     "metadata": {},
     "output_type": "display_data"
    }
   ],
   "source": [
    "# The 20% driver completion rate pretty much seems consistent across all cities\n",
    "fig, (ax1, ax2, ax3) = plt.subplots(1, 3, figsize=(15, 15))\n",
    "ax1.pie(pie3.id, autopct='%.1f%%')\n",
    "ax2.pie(pie4.id, autopct='%.1f%%')\n",
    "ax3.pie(pie5.id, autopct='%.1f%%')\n",
    "ax1.title.set_text('Berton')\n",
    "ax2.title.set_text('Strark')\n",
    "ax3.title.set_text('Wrouver')"
   ]
  },
  {
   "cell_type": "code",
   "execution_count": 1239,
   "id": "8121c1cd",
   "metadata": {},
   "outputs": [
    {
     "data": {
      "text/plain": [
       "<seaborn.axisgrid.FacetGrid at 0x7fcacf84a400>"
      ]
     },
     "execution_count": 1239,
     "metadata": {},
     "output_type": "execute_result"
    },
    {
     "data": {
      "image/png": "[encoded data removed]",
      "text/plain": [
       "<Figure size 1572.36x500 with 3 Axes>"
      ]
     },
     "metadata": {},
     "output_type": "display_data"
    }
   ],
   "source": [
    "# Drivers signed up through Mac are observed to have quickly submitted for background check across all 3 cities\n",
    "sns.catplot(data = stacked,kind = 'bar', x='signup_os', y='signup_to_bgc', hue='first_ride', col = 'city_name')"
   ]
  },
  {
   "cell_type": "code",
   "execution_count": 1241,
   "id": "26da79b9",
   "metadata": {},
   "outputs": [
    {
     "data": {
      "text/plain": [
       "<seaborn.axisgrid.FacetGrid at 0x7fcb1f1e16a0>"
      ]
     },
     "execution_count": 1241,
     "metadata": {},
     "output_type": "execute_result"
    },
    {
     "data": {
      "image/png": "[encoded data removed]",
      "text/plain": [
       "<Figure size 1572.36x500 with 3 Axes>"
      ]
     },
     "metadata": {},
     "output_type": "display_data"
    }
   ],
   "source": [
    "# Drivers signed up through iOS are more likely to have completed their first ride/'' across all 3 cities\n",
    "sns.catplot(data = stacked,kind = 'count', x='signup_os', hue='first_ride', col = 'city_name')"
   ]
  },
  {
   "cell_type": "code",
   "execution_count": 1043,
   "id": "83a2f308",
   "metadata": {},
   "outputs": [
    {
     "data": {
      "text/plain": [
       "<seaborn.axisgrid.FacetGrid at 0x7fcacb3c2910>"
      ]
     },
     "execution_count": 1043,
     "metadata": {},
     "output_type": "execute_result"
    },
    {
     "data": {
      "image/png": "[encoded data removed]",
      "text/plain": [
       "<Figure size 1572.36x500 with 3 Axes>"
      ]
     },
     "metadata": {},
     "output_type": "display_data"
    }
   ],
   "source": [
    "#Drivers who sign up through referrals are more likely to take their first ride compared to Paid or Organic\n",
    "# Very few driver signups are observed in Wrouver city as compared to the other two.\n",
    "sns.catplot(data = stacked,kind = 'count', x='signup_channel', hue='first_ride', col = 'city_name')"
   ]
  },
  {
   "cell_type": "code",
   "execution_count": 1140,
   "id": "99510555",
   "metadata": {},
   "outputs": [],
   "source": [
    "timeline = df[['signup_date', 'id', 'first_ride']]"
   ]
  },
  {
   "cell_type": "code",
   "execution_count": 1141,
   "id": "92a571d6",
   "metadata": {},
   "outputs": [],
   "source": [
    "timeline = df.groupby(['signup_date', 'first_ride'])['id'].count().reset_index()"
   ]
  },
  {
   "cell_type": "code",
   "execution_count": 1142,
   "id": "17236c2f",
   "metadata": {},
   "outputs": [
    {
     "data": {
      "text/plain": [
       "(array([16801., 16805., 16809., 16813., 16817., 16821., 16825., 16829.]),\n",
       " [Text(16801.0, 0, '2016-01-01'),\n",
       "  Text(16805.0, 0, '2016-01-05'),\n",
       "  Text(16809.0, 0, '2016-01-09'),\n",
       "  Text(16813.0, 0, '2016-01-13'),\n",
       "  Text(16817.0, 0, '2016-01-17'),\n",
       "  Text(16821.0, 0, '2016-01-21'),\n",
       "  Text(16825.0, 0, '2016-01-25'),\n",
       "  Text(16829.0, 0, '2016-01-29')])"
      ]
     },
     "execution_count": 1142,
     "metadata": {},
     "output_type": "execute_result"
    },
    {
     "data": {
      "image/png": "[encoded data removed]",
      "text/plain": [
       "<Figure size 572.361x500 with 1 Axes>"
      ]
     },
     "metadata": {},
     "output_type": "display_data"
    }
   ],
   "source": [
    "# A high frequency of sign ups are observed in the first week of January\n",
    "# The ratio of sign ups to first rides seem consistent over the entire month \n",
    "sns.relplot(data=timeline,x=\"signup_date\", y=\"id\",kind=\"line\",hue ='first_ride', style=\"first_ride\")\n",
    "plt.ylim([0, 1400])\n",
    "plt.xticks(rotation=45)"
   ]
  },
  {
   "cell_type": "code",
   "execution_count": 1047,
   "id": "4a76f1b7",
   "metadata": {},
   "outputs": [
    {
     "data": {
      "text/plain": [
       "<AxesSubplot:xlabel='signup_to_bgc', ylabel='Count'>"
      ]
     },
     "execution_count": 1047,
     "metadata": {},
     "output_type": "execute_result"
    },
    {
     "data": {
      "image/png": "[encoded data removed]",
      "text/plain": [
       "<Figure size 640x480 with 1 Axes>"
      ]
     },
     "metadata": {},
     "output_type": "display_data"
    }
   ],
   "source": [
    "# More than 60% of the drivers gave a background check consent in the first 10 days of signing up.\n",
    "# ~10% of driver gave a background check consent more than 30 days later.\n",
    "sns.histplot(data = stacked, x = 'signup_to_bgc')"
   ]
  },
  {
   "cell_type": "code",
   "execution_count": 1048,
   "id": "18cbece7",
   "metadata": {},
   "outputs": [
    {
     "data": {
      "text/html": [
       "<div>\n",
       "<style scoped>\n",
       "    .dataframe tbody tr th:only-of-type {\n",
       "        vertical-align: middle;\n",
       "    }\n",
       "\n",
       "    .dataframe tbody tr th {\n",
       "        vertical-align: top;\n",
       "    }\n",
       "\n",
       "    .dataframe thead th {\n",
       "        text-align: right;\n",
       "    }\n",
       "</style>\n",
       "<table border=\"1\" class=\"dataframe\">\n",
       "  <thead>\n",
       "    <tr style=\"text-align: right;\">\n",
       "      <th></th>\n",
       "      <th>id</th>\n",
       "      <th>city_name</th>\n",
       "      <th>signup_os</th>\n",
       "      <th>signup_channel</th>\n",
       "      <th>signup_date</th>\n",
       "      <th>bgc_date</th>\n",
       "      <th>signup_to_bgc</th>\n",
       "      <th>first_ride</th>\n",
       "    </tr>\n",
       "  </thead>\n",
       "  <tbody>\n",
       "    <tr>\n",
       "      <th>2</th>\n",
       "      <td>3</td>\n",
       "      <td>Wrouver</td>\n",
       "      <td>windows</td>\n",
       "      <td>Organic</td>\n",
       "      <td>2016-01-11</td>\n",
       "      <td>2016-01-11</td>\n",
       "      <td>0</td>\n",
       "      <td>0</td>\n",
       "    </tr>\n",
       "    <tr>\n",
       "      <th>3</th>\n",
       "      <td>4</td>\n",
       "      <td>Berton</td>\n",
       "      <td>android web</td>\n",
       "      <td>Referral</td>\n",
       "      <td>2016-01-29</td>\n",
       "      <td>2016-02-03</td>\n",
       "      <td>5</td>\n",
       "      <td>1</td>\n",
       "    </tr>\n",
       "    <tr>\n",
       "      <th>4</th>\n",
       "      <td>5</td>\n",
       "      <td>Strark</td>\n",
       "      <td>android web</td>\n",
       "      <td>Referral</td>\n",
       "      <td>2016-01-10</td>\n",
       "      <td>2016-01-25</td>\n",
       "      <td>15</td>\n",
       "      <td>0</td>\n",
       "    </tr>\n",
       "    <tr>\n",
       "      <th>5</th>\n",
       "      <td>6</td>\n",
       "      <td>Strark</td>\n",
       "      <td>android web</td>\n",
       "      <td>Referral</td>\n",
       "      <td>2016-01-18</td>\n",
       "      <td>2016-01-18</td>\n",
       "      <td>0</td>\n",
       "      <td>0</td>\n",
       "    </tr>\n",
       "    <tr>\n",
       "      <th>6</th>\n",
       "      <td>7</td>\n",
       "      <td>Strark</td>\n",
       "      <td>ios web</td>\n",
       "      <td>Paid</td>\n",
       "      <td>2016-01-14</td>\n",
       "      <td>2016-01-16</td>\n",
       "      <td>2</td>\n",
       "      <td>1</td>\n",
       "    </tr>\n",
       "  </tbody>\n",
       "</table>\n",
       "</div>"
      ],
      "text/plain": [
       "   id city_name    signup_os signup_channel signup_date   bgc_date  \\\n",
       "2   3   Wrouver      windows        Organic  2016-01-11 2016-01-11   \n",
       "3   4    Berton  android web       Referral  2016-01-29 2016-02-03   \n",
       "4   5    Strark  android web       Referral  2016-01-10 2016-01-25   \n",
       "5   6    Strark  android web       Referral  2016-01-18 2016-01-18   \n",
       "6   7    Strark      ios web           Paid  2016-01-14 2016-01-16   \n",
       "\n",
       "   signup_to_bgc  first_ride  \n",
       "2              0           0  \n",
       "3              5           1  \n",
       "4             15           0  \n",
       "5              0           0  \n",
       "6              2           1  "
      ]
     },
     "execution_count": 1048,
     "metadata": {},
     "output_type": "execute_result"
    }
   ],
   "source": [
    "df.head()"
   ]
  },
  {
   "cell_type": "code",
   "execution_count": 1049,
   "id": "1144e31d",
   "metadata": {},
   "outputs": [],
   "source": [
    "#Dropping the additional columns to prepare for building a model\n",
    "df = df.drop('signup_date', axis = 1)\n",
    "df= df.drop('bgc_date', axis = 1)\n",
    "df= df.drop('id', axis = 1)"
   ]
  },
  {
   "cell_type": "code",
   "execution_count": 1050,
   "id": "905f19c0",
   "metadata": {},
   "outputs": [
    {
     "data": {
      "text/html": [
       "<div>\n",
       "<style scoped>\n",
       "    .dataframe tbody tr th:only-of-type {\n",
       "        vertical-align: middle;\n",
       "    }\n",
       "\n",
       "    .dataframe tbody tr th {\n",
       "        vertical-align: top;\n",
       "    }\n",
       "\n",
       "    .dataframe thead th {\n",
       "        text-align: right;\n",
       "    }\n",
       "</style>\n",
       "<table border=\"1\" class=\"dataframe\">\n",
       "  <thead>\n",
       "    <tr style=\"text-align: right;\">\n",
       "      <th></th>\n",
       "      <th>city_name</th>\n",
       "      <th>signup_os</th>\n",
       "      <th>signup_channel</th>\n",
       "      <th>signup_to_bgc</th>\n",
       "      <th>first_ride</th>\n",
       "    </tr>\n",
       "  </thead>\n",
       "  <tbody>\n",
       "    <tr>\n",
       "      <th>2</th>\n",
       "      <td>Wrouver</td>\n",
       "      <td>windows</td>\n",
       "      <td>Organic</td>\n",
       "      <td>0</td>\n",
       "      <td>0</td>\n",
       "    </tr>\n",
       "    <tr>\n",
       "      <th>3</th>\n",
       "      <td>Berton</td>\n",
       "      <td>android web</td>\n",
       "      <td>Referral</td>\n",
       "      <td>5</td>\n",
       "      <td>1</td>\n",
       "    </tr>\n",
       "    <tr>\n",
       "      <th>4</th>\n",
       "      <td>Strark</td>\n",
       "      <td>android web</td>\n",
       "      <td>Referral</td>\n",
       "      <td>15</td>\n",
       "      <td>0</td>\n",
       "    </tr>\n",
       "    <tr>\n",
       "      <th>5</th>\n",
       "      <td>Strark</td>\n",
       "      <td>android web</td>\n",
       "      <td>Referral</td>\n",
       "      <td>0</td>\n",
       "      <td>0</td>\n",
       "    </tr>\n",
       "    <tr>\n",
       "      <th>6</th>\n",
       "      <td>Strark</td>\n",
       "      <td>ios web</td>\n",
       "      <td>Paid</td>\n",
       "      <td>2</td>\n",
       "      <td>1</td>\n",
       "    </tr>\n",
       "  </tbody>\n",
       "</table>\n",
       "</div>"
      ],
      "text/plain": [
       "  city_name    signup_os signup_channel  signup_to_bgc  first_ride\n",
       "2   Wrouver      windows        Organic              0           0\n",
       "3    Berton  android web       Referral              5           1\n",
       "4    Strark  android web       Referral             15           0\n",
       "5    Strark  android web       Referral              0           0\n",
       "6    Strark      ios web           Paid              2           1"
      ]
     },
     "execution_count": 1050,
     "metadata": {},
     "output_type": "execute_result"
    }
   ],
   "source": [
    "df.head()"
   ]
  },
  {
   "cell_type": "markdown",
   "id": "611c1ab7",
   "metadata": {},
   "source": [
    "**Chi-Square Test**\n",
    "\n",
    "Performing this test to determine whether each of the features in the data set are dependant or indepandant of the output variable(ie. first_ride) \n",
    "I will be considering the features that are dependant of the output variable in the model. The independant features will be eliminated."
   ]
  },
  {
   "cell_type": "code",
   "execution_count": 1051,
   "id": "136c87ad",
   "metadata": {},
   "outputs": [
    {
     "data": {
      "text/html": [
       "<div>\n",
       "<style scoped>\n",
       "    .dataframe tbody tr th:only-of-type {\n",
       "        vertical-align: middle;\n",
       "    }\n",
       "\n",
       "    .dataframe tbody tr th {\n",
       "        vertical-align: top;\n",
       "    }\n",
       "\n",
       "    .dataframe thead th {\n",
       "        text-align: right;\n",
       "    }\n",
       "</style>\n",
       "<table border=\"1\" class=\"dataframe\">\n",
       "  <thead>\n",
       "    <tr style=\"text-align: right;\">\n",
       "      <th>first_ride</th>\n",
       "      <th>0</th>\n",
       "      <th>1</th>\n",
       "    </tr>\n",
       "    <tr>\n",
       "      <th>signup_to_bgc</th>\n",
       "      <th></th>\n",
       "      <th></th>\n",
       "    </tr>\n",
       "  </thead>\n",
       "  <tbody>\n",
       "    <tr>\n",
       "      <th>0</th>\n",
       "      <td>2370</td>\n",
       "      <td>1818</td>\n",
       "    </tr>\n",
       "    <tr>\n",
       "      <th>1</th>\n",
       "      <td>1854</td>\n",
       "      <td>1076</td>\n",
       "    </tr>\n",
       "    <tr>\n",
       "      <th>2</th>\n",
       "      <td>1619</td>\n",
       "      <td>690</td>\n",
       "    </tr>\n",
       "    <tr>\n",
       "      <th>3</th>\n",
       "      <td>1347</td>\n",
       "      <td>530</td>\n",
       "    </tr>\n",
       "    <tr>\n",
       "      <th>4</th>\n",
       "      <td>1219</td>\n",
       "      <td>343</td>\n",
       "    </tr>\n",
       "    <tr>\n",
       "      <th>...</th>\n",
       "      <td>...</td>\n",
       "      <td>...</td>\n",
       "    </tr>\n",
       "    <tr>\n",
       "      <th>58</th>\n",
       "      <td>1</td>\n",
       "      <td>0</td>\n",
       "    </tr>\n",
       "    <tr>\n",
       "      <th>59</th>\n",
       "      <td>1</td>\n",
       "      <td>0</td>\n",
       "    </tr>\n",
       "    <tr>\n",
       "      <th>60</th>\n",
       "      <td>1</td>\n",
       "      <td>0</td>\n",
       "    </tr>\n",
       "    <tr>\n",
       "      <th>62</th>\n",
       "      <td>1</td>\n",
       "      <td>0</td>\n",
       "    </tr>\n",
       "    <tr>\n",
       "      <th>69</th>\n",
       "      <td>1</td>\n",
       "      <td>0</td>\n",
       "    </tr>\n",
       "  </tbody>\n",
       "</table>\n",
       "<p>63 rows × 2 columns</p>\n",
       "</div>"
      ],
      "text/plain": [
       "first_ride        0     1\n",
       "signup_to_bgc            \n",
       "0              2370  1818\n",
       "1              1854  1076\n",
       "2              1619   690\n",
       "3              1347   530\n",
       "4              1219   343\n",
       "...             ...   ...\n",
       "58                1     0\n",
       "59                1     0\n",
       "60                1     0\n",
       "62                1     0\n",
       "69                1     0\n",
       "\n",
       "[63 rows x 2 columns]"
      ]
     },
     "execution_count": 1051,
     "metadata": {},
     "output_type": "execute_result"
    }
   ],
   "source": [
    "chisq1 = df[['signup_to_bgc','first_ride']]\n",
    "crosstab1 = pd.crosstab(chisq1['signup_to_bgc'], chisq1['first_ride'])\n",
    "crosstab1"
   ]
  },
  {
   "cell_type": "code",
   "execution_count": 1052,
   "id": "63722509",
   "metadata": {},
   "outputs": [
    {
     "name": "stdout",
     "output_type": "stream",
     "text": [
      "dof=62\n",
      "p-Value:  0.0\n",
      "significance=0.050, p=0.000\n",
      "Dependent (reject H0).The two features are dependant with each other\n"
     ]
    }
   ],
   "source": [
    "stat, p, dof, expected = chi2_contingency(crosstab1)\n",
    "print('dof=%d' % dof)\n",
    "print('p-Value: ',p)\n",
    "# interpret p-value\n",
    "alpha = 1.0 - prob\n",
    "print('significance=%.3f, p=%.3f' % (alpha, p))\n",
    "if p <= alpha:\n",
    " print('Dependent (reject H0).The two features are dependant with each other')\n",
    "else:\n",
    " print('Independent (fail to reject H0). The two features are independant of each other')"
   ]
  },
  {
   "cell_type": "code",
   "execution_count": 1053,
   "id": "780870c8",
   "metadata": {},
   "outputs": [],
   "source": [
    "chisq2 = df[['signup_channel','first_ride']]"
   ]
  },
  {
   "cell_type": "code",
   "execution_count": 1054,
   "id": "4c4cc1af",
   "metadata": {},
   "outputs": [
    {
     "data": {
      "text/html": [
       "<div>\n",
       "<style scoped>\n",
       "    .dataframe tbody tr th:only-of-type {\n",
       "        vertical-align: middle;\n",
       "    }\n",
       "\n",
       "    .dataframe tbody tr th {\n",
       "        vertical-align: top;\n",
       "    }\n",
       "\n",
       "    .dataframe thead th {\n",
       "        text-align: right;\n",
       "    }\n",
       "</style>\n",
       "<table border=\"1\" class=\"dataframe\">\n",
       "  <thead>\n",
       "    <tr style=\"text-align: right;\">\n",
       "      <th>first_ride</th>\n",
       "      <th>0</th>\n",
       "      <th>1</th>\n",
       "    </tr>\n",
       "    <tr>\n",
       "      <th>signup_channel</th>\n",
       "      <th></th>\n",
       "      <th></th>\n",
       "    </tr>\n",
       "  </thead>\n",
       "  <tbody>\n",
       "    <tr>\n",
       "      <th>Organic</th>\n",
       "      <td>6366</td>\n",
       "      <td>1140</td>\n",
       "    </tr>\n",
       "    <tr>\n",
       "      <th>Paid</th>\n",
       "      <td>10910</td>\n",
       "      <td>1482</td>\n",
       "    </tr>\n",
       "    <tr>\n",
       "      <th>Referral</th>\n",
       "      <td>7603</td>\n",
       "      <td>3367</td>\n",
       "    </tr>\n",
       "  </tbody>\n",
       "</table>\n",
       "</div>"
      ],
      "text/plain": [
       "first_ride          0     1\n",
       "signup_channel             \n",
       "Organic          6366  1140\n",
       "Paid            10910  1482\n",
       "Referral         7603  3367"
      ]
     },
     "execution_count": 1054,
     "metadata": {},
     "output_type": "execute_result"
    }
   ],
   "source": [
    "crosstab2 = pd.crosstab(chisq2['signup_channel'], chisq2['first_ride'])\n",
    "crosstab2"
   ]
  },
  {
   "cell_type": "code",
   "execution_count": 1055,
   "id": "1e5284af",
   "metadata": {},
   "outputs": [
    {
     "name": "stdout",
     "output_type": "stream",
     "text": [
      "dof=2\n",
      "p-Value:  9.419899587197045e-309\n",
      "significance=0.050, p=0.000\n",
      "Dependent (reject H0).The two features are dependant with each other\n"
     ]
    }
   ],
   "source": [
    "\n",
    "stat, p, dof, expected = chi2_contingency(crosstab2)\n",
    "print('dof=%d' % dof)\n",
    "print('p-Value: ',p)\n",
    "# interpret p-value\n",
    "alpha = 1.0 - prob\n",
    "print('significance=%.3f, p=%.3f' % (alpha, p))\n",
    "if p <= alpha:\n",
    " print('Dependent (reject H0).The two features are dependant with each other')\n",
    "else:\n",
    " print('Independent (fail to reject H0). The two features are independant of each other')"
   ]
  },
  {
   "cell_type": "code",
   "execution_count": 1056,
   "id": "a715d62e",
   "metadata": {},
   "outputs": [
    {
     "data": {
      "text/html": [
       "<div>\n",
       "<style scoped>\n",
       "    .dataframe tbody tr th:only-of-type {\n",
       "        vertical-align: middle;\n",
       "    }\n",
       "\n",
       "    .dataframe tbody tr th {\n",
       "        vertical-align: top;\n",
       "    }\n",
       "\n",
       "    .dataframe thead th {\n",
       "        text-align: right;\n",
       "    }\n",
       "</style>\n",
       "<table border=\"1\" class=\"dataframe\">\n",
       "  <thead>\n",
       "    <tr style=\"text-align: right;\">\n",
       "      <th>first_ride</th>\n",
       "      <th>0</th>\n",
       "      <th>1</th>\n",
       "    </tr>\n",
       "    <tr>\n",
       "      <th>signup_os</th>\n",
       "      <th></th>\n",
       "      <th></th>\n",
       "    </tr>\n",
       "  </thead>\n",
       "  <tbody>\n",
       "    <tr>\n",
       "      <th>android web</th>\n",
       "      <td>7886</td>\n",
       "      <td>1454</td>\n",
       "    </tr>\n",
       "    <tr>\n",
       "      <th>ios web</th>\n",
       "      <td>8592</td>\n",
       "      <td>2191</td>\n",
       "    </tr>\n",
       "    <tr>\n",
       "      <th>mac</th>\n",
       "      <td>2997</td>\n",
       "      <td>948</td>\n",
       "    </tr>\n",
       "    <tr>\n",
       "      <th>other</th>\n",
       "      <td>1885</td>\n",
       "      <td>498</td>\n",
       "    </tr>\n",
       "    <tr>\n",
       "      <th>windows</th>\n",
       "      <td>3519</td>\n",
       "      <td>898</td>\n",
       "    </tr>\n",
       "  </tbody>\n",
       "</table>\n",
       "</div>"
      ],
      "text/plain": [
       "first_ride      0     1\n",
       "signup_os              \n",
       "android web  7886  1454\n",
       "ios web      8592  2191\n",
       "mac          2997   948\n",
       "other        1885   498\n",
       "windows      3519   898"
      ]
     },
     "execution_count": 1056,
     "metadata": {},
     "output_type": "execute_result"
    }
   ],
   "source": [
    "chisq3 = df[['signup_os','first_ride']]\n",
    "crosstab3 = pd.crosstab(chisq3['signup_os'],chisq3['first_ride'])\n",
    "crosstab3"
   ]
  },
  {
   "cell_type": "code",
   "execution_count": 1057,
   "id": "42fc4e51",
   "metadata": {},
   "outputs": [
    {
     "name": "stdout",
     "output_type": "stream",
     "text": [
      "dof=4\n",
      "p-Value:  3.6007844054690714e-32\n",
      "significance=0.050, p=0.000\n",
      "Dependent (reject H0).The two features are dependant with each other\n"
     ]
    }
   ],
   "source": [
    "stat, p, dof, expected = chi2_contingency(crosstab3)\n",
    "print('dof=%d' % dof)\n",
    "print('p-Value: ',p)\n",
    "# interpret p-value\n",
    "alpha = 1.0 - prob\n",
    "print('significance=%.3f, p=%.3f' % (alpha, p))\n",
    "if p <= alpha:\n",
    " print('Dependent (reject H0).The two features are dependant with each other')\n",
    "else:\n",
    " print('Independent (fail to reject H0). The two features are independant of each other')"
   ]
  },
  {
   "cell_type": "code",
   "execution_count": 1058,
   "id": "6b56e903",
   "metadata": {},
   "outputs": [
    {
     "data": {
      "text/html": [
       "<div>\n",
       "<style scoped>\n",
       "    .dataframe tbody tr th:only-of-type {\n",
       "        vertical-align: middle;\n",
       "    }\n",
       "\n",
       "    .dataframe tbody tr th {\n",
       "        vertical-align: top;\n",
       "    }\n",
       "\n",
       "    .dataframe thead th {\n",
       "        text-align: right;\n",
       "    }\n",
       "</style>\n",
       "<table border=\"1\" class=\"dataframe\">\n",
       "  <thead>\n",
       "    <tr style=\"text-align: right;\">\n",
       "      <th>first_ride</th>\n",
       "      <th>0</th>\n",
       "      <th>1</th>\n",
       "    </tr>\n",
       "    <tr>\n",
       "      <th>city_name</th>\n",
       "      <th></th>\n",
       "      <th></th>\n",
       "    </tr>\n",
       "  </thead>\n",
       "  <tbody>\n",
       "    <tr>\n",
       "      <th>Berton</th>\n",
       "      <td>9355</td>\n",
       "      <td>2394</td>\n",
       "    </tr>\n",
       "    <tr>\n",
       "      <th>Strark</th>\n",
       "      <td>13400</td>\n",
       "      <td>3142</td>\n",
       "    </tr>\n",
       "    <tr>\n",
       "      <th>Wrouver</th>\n",
       "      <td>2124</td>\n",
       "      <td>453</td>\n",
       "    </tr>\n",
       "  </tbody>\n",
       "</table>\n",
       "</div>"
      ],
      "text/plain": [
       "first_ride      0     1\n",
       "city_name              \n",
       "Berton       9355  2394\n",
       "Strark      13400  3142\n",
       "Wrouver      2124   453"
      ]
     },
     "execution_count": 1058,
     "metadata": {},
     "output_type": "execute_result"
    }
   ],
   "source": [
    "chisq4 = df[['city_name','first_ride']]\n",
    "crosstab4 = pd.crosstab(chisq4['city_name'], chisq4['first_ride'])\n",
    "crosstab4"
   ]
  },
  {
   "cell_type": "code",
   "execution_count": 1059,
   "id": "59198c22",
   "metadata": {},
   "outputs": [
    {
     "name": "stdout",
     "output_type": "stream",
     "text": [
      "dof=2\n",
      "p-Value:  0.0007578258476752474\n",
      "significance=0.050, p=0.001\n",
      "Dependent (reject H0).The two features are dependant with each other\n"
     ]
    }
   ],
   "source": [
    "stat, p, dof, expected = chi2_contingency(crosstab4)\n",
    "print('dof=%d' % dof)\n",
    "print('p-Value: ',p)\n",
    "# interpret p-value\n",
    "alpha = 1.0 - prob\n",
    "print('significance=%.3f, p=%.3f' % (alpha, p))\n",
    "if p <= alpha:\n",
    " print('Dependent (reject H0).The two features are dependant with each other')\n",
    "else:\n",
    " print('Independent (fail to reject H0). The two features are independant of each other')"
   ]
  },
  {
   "cell_type": "markdown",
   "id": "208d0e99",
   "metadata": {},
   "source": [
    "**Predictive Modeling**"
   ]
  },
  {
   "cell_type": "code",
   "execution_count": 1065,
   "id": "f503a4a2",
   "metadata": {},
   "outputs": [
    {
     "data": {
      "text/html": [
       "<div>\n",
       "<style scoped>\n",
       "    .dataframe tbody tr th:only-of-type {\n",
       "        vertical-align: middle;\n",
       "    }\n",
       "\n",
       "    .dataframe tbody tr th {\n",
       "        vertical-align: top;\n",
       "    }\n",
       "\n",
       "    .dataframe thead th {\n",
       "        text-align: right;\n",
       "    }\n",
       "</style>\n",
       "<table border=\"1\" class=\"dataframe\">\n",
       "  <thead>\n",
       "    <tr style=\"text-align: right;\">\n",
       "      <th></th>\n",
       "      <th>city_name</th>\n",
       "      <th>signup_os</th>\n",
       "      <th>signup_channel</th>\n",
       "      <th>signup_to_bgc</th>\n",
       "      <th>first_ride</th>\n",
       "    </tr>\n",
       "  </thead>\n",
       "  <tbody>\n",
       "    <tr>\n",
       "      <th>2</th>\n",
       "      <td>Wrouver</td>\n",
       "      <td>windows</td>\n",
       "      <td>Organic</td>\n",
       "      <td>0</td>\n",
       "      <td>0</td>\n",
       "    </tr>\n",
       "    <tr>\n",
       "      <th>3</th>\n",
       "      <td>Berton</td>\n",
       "      <td>android web</td>\n",
       "      <td>Referral</td>\n",
       "      <td>5</td>\n",
       "      <td>1</td>\n",
       "    </tr>\n",
       "    <tr>\n",
       "      <th>4</th>\n",
       "      <td>Strark</td>\n",
       "      <td>android web</td>\n",
       "      <td>Referral</td>\n",
       "      <td>15</td>\n",
       "      <td>0</td>\n",
       "    </tr>\n",
       "    <tr>\n",
       "      <th>5</th>\n",
       "      <td>Strark</td>\n",
       "      <td>android web</td>\n",
       "      <td>Referral</td>\n",
       "      <td>0</td>\n",
       "      <td>0</td>\n",
       "    </tr>\n",
       "    <tr>\n",
       "      <th>6</th>\n",
       "      <td>Strark</td>\n",
       "      <td>ios web</td>\n",
       "      <td>Paid</td>\n",
       "      <td>2</td>\n",
       "      <td>1</td>\n",
       "    </tr>\n",
       "  </tbody>\n",
       "</table>\n",
       "</div>"
      ],
      "text/plain": [
       "  city_name    signup_os signup_channel  signup_to_bgc  first_ride\n",
       "2   Wrouver      windows        Organic              0           0\n",
       "3    Berton  android web       Referral              5           1\n",
       "4    Strark  android web       Referral             15           0\n",
       "5    Strark  android web       Referral              0           0\n",
       "6    Strark      ios web           Paid              2           1"
      ]
     },
     "execution_count": 1065,
     "metadata": {},
     "output_type": "execute_result"
    }
   ],
   "source": [
    "df.head()"
   ]
  },
  {
   "cell_type": "code",
   "execution_count": 1066,
   "id": "ca860b01",
   "metadata": {},
   "outputs": [],
   "source": [
    "# Since the models will accept a numerical input I am encoding the city_name, signup_os and signup_channel features \n",
    "#and splitting them into their relevant columns.\n",
    "\n",
    "encoder1=ce.OneHotEncoder(cols='city_name',handle_unknown='return_nan',return_df=True,use_cat_names=True)\n",
    "encoder2=ce.OneHotEncoder(cols='signup_os',handle_unknown='return_nan',return_df=True,use_cat_names=True)\n",
    "encoder3=ce.OneHotEncoder(cols='signup_channel',handle_unknown='return_nan',return_df=True,use_cat_names=True)\n",
    "df = encoder1.fit_transform(df)\n",
    "df = encoder2.fit_transform(df)\n",
    "df = encoder3.fit_transform(df)\n"
   ]
  },
  {
   "cell_type": "code",
   "execution_count": 1067,
   "id": "96a339d3",
   "metadata": {},
   "outputs": [
    {
     "data": {
      "text/html": [
       "<div>\n",
       "<style scoped>\n",
       "    .dataframe tbody tr th:only-of-type {\n",
       "        vertical-align: middle;\n",
       "    }\n",
       "\n",
       "    .dataframe tbody tr th {\n",
       "        vertical-align: top;\n",
       "    }\n",
       "\n",
       "    .dataframe thead th {\n",
       "        text-align: right;\n",
       "    }\n",
       "</style>\n",
       "<table border=\"1\" class=\"dataframe\">\n",
       "  <thead>\n",
       "    <tr style=\"text-align: right;\">\n",
       "      <th></th>\n",
       "      <th>city_name_Wrouver</th>\n",
       "      <th>city_name_Berton</th>\n",
       "      <th>city_name_Strark</th>\n",
       "      <th>signup_os_windows</th>\n",
       "      <th>signup_os_android web</th>\n",
       "      <th>signup_os_ios web</th>\n",
       "      <th>signup_os_mac</th>\n",
       "      <th>signup_os_other</th>\n",
       "      <th>signup_channel_Organic</th>\n",
       "      <th>signup_channel_Referral</th>\n",
       "      <th>signup_channel_Paid</th>\n",
       "      <th>signup_to_bgc</th>\n",
       "      <th>first_ride</th>\n",
       "    </tr>\n",
       "  </thead>\n",
       "  <tbody>\n",
       "    <tr>\n",
       "      <th>2</th>\n",
       "      <td>1.0</td>\n",
       "      <td>0.0</td>\n",
       "      <td>0.0</td>\n",
       "      <td>1.0</td>\n",
       "      <td>0.0</td>\n",
       "      <td>0.0</td>\n",
       "      <td>0.0</td>\n",
       "      <td>0.0</td>\n",
       "      <td>1.0</td>\n",
       "      <td>0.0</td>\n",
       "      <td>0.0</td>\n",
       "      <td>0</td>\n",
       "      <td>0</td>\n",
       "    </tr>\n",
       "    <tr>\n",
       "      <th>3</th>\n",
       "      <td>0.0</td>\n",
       "      <td>1.0</td>\n",
       "      <td>0.0</td>\n",
       "      <td>0.0</td>\n",
       "      <td>1.0</td>\n",
       "      <td>0.0</td>\n",
       "      <td>0.0</td>\n",
       "      <td>0.0</td>\n",
       "      <td>0.0</td>\n",
       "      <td>1.0</td>\n",
       "      <td>0.0</td>\n",
       "      <td>5</td>\n",
       "      <td>1</td>\n",
       "    </tr>\n",
       "    <tr>\n",
       "      <th>4</th>\n",
       "      <td>0.0</td>\n",
       "      <td>0.0</td>\n",
       "      <td>1.0</td>\n",
       "      <td>0.0</td>\n",
       "      <td>1.0</td>\n",
       "      <td>0.0</td>\n",
       "      <td>0.0</td>\n",
       "      <td>0.0</td>\n",
       "      <td>0.0</td>\n",
       "      <td>1.0</td>\n",
       "      <td>0.0</td>\n",
       "      <td>15</td>\n",
       "      <td>0</td>\n",
       "    </tr>\n",
       "    <tr>\n",
       "      <th>5</th>\n",
       "      <td>0.0</td>\n",
       "      <td>0.0</td>\n",
       "      <td>1.0</td>\n",
       "      <td>0.0</td>\n",
       "      <td>1.0</td>\n",
       "      <td>0.0</td>\n",
       "      <td>0.0</td>\n",
       "      <td>0.0</td>\n",
       "      <td>0.0</td>\n",
       "      <td>1.0</td>\n",
       "      <td>0.0</td>\n",
       "      <td>0</td>\n",
       "      <td>0</td>\n",
       "    </tr>\n",
       "    <tr>\n",
       "      <th>6</th>\n",
       "      <td>0.0</td>\n",
       "      <td>0.0</td>\n",
       "      <td>1.0</td>\n",
       "      <td>0.0</td>\n",
       "      <td>0.0</td>\n",
       "      <td>1.0</td>\n",
       "      <td>0.0</td>\n",
       "      <td>0.0</td>\n",
       "      <td>0.0</td>\n",
       "      <td>0.0</td>\n",
       "      <td>1.0</td>\n",
       "      <td>2</td>\n",
       "      <td>1</td>\n",
       "    </tr>\n",
       "  </tbody>\n",
       "</table>\n",
       "</div>"
      ],
      "text/plain": [
       "   city_name_Wrouver  city_name_Berton  city_name_Strark  signup_os_windows  \\\n",
       "2                1.0               0.0               0.0                1.0   \n",
       "3                0.0               1.0               0.0                0.0   \n",
       "4                0.0               0.0               1.0                0.0   \n",
       "5                0.0               0.0               1.0                0.0   \n",
       "6                0.0               0.0               1.0                0.0   \n",
       "\n",
       "   signup_os_android web  signup_os_ios web  signup_os_mac  signup_os_other  \\\n",
       "2                    0.0                0.0            0.0              0.0   \n",
       "3                    1.0                0.0            0.0              0.0   \n",
       "4                    1.0                0.0            0.0              0.0   \n",
       "5                    1.0                0.0            0.0              0.0   \n",
       "6                    0.0                1.0            0.0              0.0   \n",
       "\n",
       "   signup_channel_Organic  signup_channel_Referral  signup_channel_Paid  \\\n",
       "2                     1.0                      0.0                  0.0   \n",
       "3                     0.0                      1.0                  0.0   \n",
       "4                     0.0                      1.0                  0.0   \n",
       "5                     0.0                      1.0                  0.0   \n",
       "6                     0.0                      0.0                  1.0   \n",
       "\n",
       "   signup_to_bgc  first_ride  \n",
       "2              0           0  \n",
       "3              5           1  \n",
       "4             15           0  \n",
       "5              0           0  \n",
       "6              2           1  "
      ]
     },
     "execution_count": 1067,
     "metadata": {},
     "output_type": "execute_result"
    }
   ],
   "source": [
    "df.head()"
   ]
  },
  {
   "cell_type": "code",
   "execution_count": 1074,
   "id": "224c08c4",
   "metadata": {},
   "outputs": [
    {
     "data": {
      "text/plain": [
       "city_name_Wrouver          0\n",
       "city_name_Berton           0\n",
       "city_name_Strark           0\n",
       "signup_os_windows          0\n",
       "signup_os_android web      0\n",
       "signup_os_ios web          0\n",
       "signup_os_mac              0\n",
       "signup_os_other            0\n",
       "signup_channel_Organic     0\n",
       "signup_channel_Referral    0\n",
       "signup_channel_Paid        0\n",
       "signup_to_bgc              0\n",
       "first_ride                 0\n",
       "dtype: int64"
      ]
     },
     "execution_count": 1074,
     "metadata": {},
     "output_type": "execute_result"
    }
   ],
   "source": [
    "df.isnull().sum()"
   ]
  },
  {
   "cell_type": "code",
   "execution_count": 1068,
   "id": "95f11862",
   "metadata": {},
   "outputs": [],
   "source": [
    "X = df.drop('first_ride', axis = 1)\n",
    "y = df[['first_ride']]"
   ]
  },
  {
   "cell_type": "markdown",
   "id": "49bc7af2",
   "metadata": {},
   "source": [
    "**Logistic Regression**"
   ]
  },
  {
   "cell_type": "code",
   "execution_count": 1078,
   "id": "438bfe64",
   "metadata": {},
   "outputs": [
    {
     "name": "stdout",
     "output_type": "stream",
     "text": [
      "Accuracy of logistic regression classifier on test set: 0.82\n"
     ]
    },
    {
     "name": "stderr",
     "output_type": "stream",
     "text": [
      "/Users/rajesh/opt/anaconda3/lib/python3.9/site-packages/sklearn/utils/validation.py:993: DataConversionWarning: A column-vector y was passed when a 1d array was expected. Please change the shape of y to (n_samples, ), for example using ravel().\n",
      "  y = column_or_1d(y, warn=True)\n"
     ]
    }
   ],
   "source": [
    "from sklearn.linear_model import LogisticRegression\n",
    "from sklearn import metrics\n",
    "X_train, X_test, y_train, y_test = train_test_split(X, y, test_size=0.33, random_state=0)\n",
    "logreg = LogisticRegression()\n",
    "logreg.fit(X_train, y_train)\n",
    "\n",
    "\n",
    "y_pred = logreg.predict(X_test)\n",
    "print('Accuracy of logistic regression classifier on test set: {:.2f}'.format(logreg.score(X_test, y_test)))"
   ]
  },
  {
   "cell_type": "code",
   "execution_count": 1079,
   "id": "114394a8",
   "metadata": {},
   "outputs": [
    {
     "data": {
      "text/plain": [
       "array([[7865,  335],\n",
       "       [1549,  438]])"
      ]
     },
     "execution_count": 1079,
     "metadata": {},
     "output_type": "execute_result"
    }
   ],
   "source": [
    "cnf_matrix = metrics.confusion_matrix(y_test, y_pred) \n",
    "\n",
    "cnf_matrix "
   ]
  },
  {
   "cell_type": "code",
   "execution_count": 1080,
   "id": "ff5c2c75",
   "metadata": {},
   "outputs": [
    {
     "name": "stdout",
     "output_type": "stream",
     "text": [
      "Accuracy: 0.8150584077746147\n"
     ]
    }
   ],
   "source": [
    "print(\"Accuracy:\",metrics.accuracy_score(y_test, y_pred)) "
   ]
  },
  {
   "cell_type": "code",
   "execution_count": 1098,
   "id": "7d63c466",
   "metadata": {},
   "outputs": [
    {
     "data": {
      "image/png": "[encoded data removed]",
      "text/plain": [
       "<Figure size 640x480 with 1 Axes>"
      ]
     },
     "metadata": {},
     "output_type": "display_data"
    }
   ],
   "source": [
    "#define metrics\n",
    "y_pred_proba = logreg.predict_proba(X_test)[::,1]\n",
    "fpr, tpr, _ = metrics.roc_curve(y_test,  y_pred_proba)\n",
    "plt.plot([0, 1], [0, 1], linestyle='--', lw=2, color='r',label='Random', alpha=.8)\n",
    "\n",
    "#create ROC curve\n",
    "plt.plot(fpr,tpr)\n",
    "plt.ylabel('True Positive Rate')\n",
    "plt.xlabel('False Positive Rate')\n",
    "plt.show()"
   ]
  },
  {
   "cell_type": "code",
   "execution_count": 1099,
   "id": "5b7598fb",
   "metadata": {},
   "outputs": [
    {
     "name": "stdout",
     "output_type": "stream",
     "text": [
      "0.804302570365915\n"
     ]
    }
   ],
   "source": [
    "auc = metrics.roc_auc_score(y_test, y_pred_proba)\n",
    "print(auc)\n"
   ]
  },
  {
   "cell_type": "markdown",
   "id": "252c5635",
   "metadata": {},
   "source": [
    "**Random Forest Classifier**"
   ]
  },
  {
   "cell_type": "code",
   "execution_count": 1093,
   "id": "8df6c1f1",
   "metadata": {},
   "outputs": [
    {
     "name": "stderr",
     "output_type": "stream",
     "text": [
      "/var/folders/cy/jqgb_3bd0t94k2zsfjl68hy00000gn/T/ipykernel_19478/1794165630.py:3: DataConversionWarning: A column-vector y was passed when a 1d array was expected. Please change the shape of y to (n_samples,), for example using ravel().\n",
      "  rf_model.fit(X_train, y_train)\n"
     ]
    },
    {
     "data": {
      "text/plain": [
       "RandomForestClassifier(n_estimators=50, random_state=44)"
      ]
     },
     "execution_count": 1093,
     "metadata": {},
     "output_type": "execute_result"
    }
   ],
   "source": [
    "from sklearn.ensemble import RandomForestClassifier\n",
    "rf_model = RandomForestClassifier(n_estimators=50, max_features=\"auto\", random_state=44)\n",
    "rf_model.fit(X_train, y_train)"
   ]
  },
  {
   "cell_type": "code",
   "execution_count": 1094,
   "id": "4b8792e9",
   "metadata": {},
   "outputs": [],
   "source": [
    "predictions = rf_model.predict(X_test)"
   ]
  },
  {
   "cell_type": "code",
   "execution_count": 1095,
   "id": "5405e157",
   "metadata": {},
   "outputs": [
    {
     "data": {
      "text/plain": [
       "array([0.00912908, 0.00990005, 0.01104794, 0.00953392, 0.01952816,\n",
       "       0.00858758, 0.0135416 , 0.00929069, 0.01510427, 0.12684224,\n",
       "       0.04918843, 0.71830604])"
      ]
     },
     "execution_count": 1095,
     "metadata": {},
     "output_type": "execute_result"
    }
   ],
   "source": [
    "rf_model.feature_importances_"
   ]
  },
  {
   "cell_type": "code",
   "execution_count": 1096,
   "id": "4a5a4f55",
   "metadata": {},
   "outputs": [
    {
     "data": {
      "text/plain": [
       "0.8109355060371061"
      ]
     },
     "execution_count": 1096,
     "metadata": {},
     "output_type": "execute_result"
    }
   ],
   "source": [
    "rf_model.score(X_test, y_test)"
   ]
  },
  {
   "cell_type": "markdown",
   "id": "900a652f",
   "metadata": {},
   "source": [
    "**Other Models Explored - SVC, KNN**"
   ]
  },
  {
   "cell_type": "code",
   "execution_count": 1081,
   "id": "a6ed464a",
   "metadata": {},
   "outputs": [
    {
     "name": "stderr",
     "output_type": "stream",
     "text": [
      "/Users/rajesh/opt/anaconda3/lib/python3.9/site-packages/sklearn/utils/validation.py:993: DataConversionWarning: A column-vector y was passed when a 1d array was expected. Please change the shape of y to (n_samples, ), for example using ravel().\n",
      "  y = column_or_1d(y, warn=True)\n"
     ]
    },
    {
     "name": "stdout",
     "output_type": "stream",
     "text": [
      "Model accuracy score with default hyperparameters: 0.8049\n"
     ]
    }
   ],
   "source": [
    "from sklearn.svm import SVC\n",
    "from sklearn.metrics import accuracy_score\n",
    "\n",
    "svc=SVC() \n",
    "svc.fit(X_train,y_train)\n",
    "y_pred=svc.predict(X_test)\n",
    "\n",
    "\n",
    "# compute and print accuracy score\n",
    "print('Model accuracy score with default hyperparameters: {0:0.4f}'. format(accuracy_score(y_test, y_pred)))"
   ]
  },
  {
   "cell_type": "code",
   "execution_count": 1089,
   "id": "01e91b6a",
   "metadata": {},
   "outputs": [
    {
     "data": {
      "text/plain": [
       "-0.2424733787914124"
      ]
     },
     "execution_count": 1089,
     "metadata": {},
     "output_type": "execute_result"
    }
   ],
   "source": [
    "from sklearn.neighbors import KNeighborsRegressor\n",
    "regressor = KNeighborsRegressor(n_neighbors=2)\n",
    "regressor.fit(X_train, y_train)\n",
    "y_pred = regressor.predict(X_test)\n",
    "regressor.score(X_test, y_test)"
   ]
  },
  {
   "cell_type": "code",
   "execution_count": 1091,
   "id": "60caaeb9",
   "metadata": {},
   "outputs": [],
   "source": [
    "from sklearn.metrics import mean_absolute_error, mean_squared_error\n",
    "error = []\n",
    "\n",
    "# Calculating MAE error for K values between 1 and 99\n",
    "for i in range(1, 99):\n",
    "    knn = KNeighborsRegressor(n_neighbors=i)\n",
    "    knn.fit(X_train, y_train)\n",
    "    pred_i = knn.predict(X_test)\n",
    "    mae = mean_absolute_error(y_test, pred_i)\n",
    "    error.append(mae)"
   ]
  },
  {
   "cell_type": "code",
   "execution_count": 1092,
   "id": "d5357e90",
   "metadata": {},
   "outputs": [
    {
     "data": {
      "text/plain": [
       "Text(0, 0.5, 'Mean Absolute Error')"
      ]
     },
     "execution_count": 1092,
     "metadata": {},
     "output_type": "execute_result"
    },
    {
     "data": {
      "image/png": "[encoded data removed]",
      "text/plain": [
       "<Figure size 1200x600 with 1 Axes>"
      ]
     },
     "metadata": {},
     "output_type": "display_data"
    }
   ],
   "source": [
    "import matplotlib.pyplot as plt \n",
    "\n",
    "plt.figure(figsize=(12, 6))\n",
    "plt.plot(range(1, 99), error, color='red', \n",
    "         linestyle='dashed', marker='o',\n",
    "         markerfacecolor='blue', markersize=10)\n",
    "         \n",
    "plt.title('K Value MAE')\n",
    "plt.xlabel('K Value')\n",
    "plt.ylabel('Mean Absolute Error')"
   ]
  },
  {
   "cell_type": "markdown",
   "id": "6e2a7615",
   "metadata": {},
   "source": [
    "**Obversations and Recommendations :**\n",
    "1. More than 50% (\\~32900) of the drivers have provided a Background check consent. Off them only 18% (~6100) have completed their first ride. This implies that there could be delays in background check, vehicle registration process which is delaying the process overall. This can be further explored.\n",
    "<br><br>\n",
    "2. I noticed that vehicle information is completely missing in the dataset.<br> \n",
    "    - 75% (\\~41500) of the drivers have not provided any vehicle details.<br> \n",
    "    - There are 65 rows where driver has completed a first ride but not vehicle or vehicle information is added. Having accurate information about vehicles would have helped in providing much deeper analysis.<br> \n",
    "    <br>_Possible Reasons:_\n",
    "    - There could have been a technical glitch in the App becuase of which data collection would not have happened\n",
    "    - New Drivers could have problems in purchasing/leasing a new car which can be eased by providing good financing options.\n",
    "<br><br>\n",
    "3. More than 60% of the drivers gave a background check consent in the first 10 days of signing up.~10% of driver gave a background check consent more than 30 days later. Additional investigation into this can help a large number of drivers complete their sign up process and make their first drive.\n",
    "<br><br>\n",
    "4. Drivers who sign up through referral have completed their first rides more than other Sign Up channels. Lucrative referral programs for current drivers can help boost the Sign Up rate for new drivers.\n"
   ]
  },
  {
   "cell_type": "code",
   "execution_count": null,
   "id": "49cced81",
   "metadata": {},
   "outputs": [],
   "source": []
  }
 ],
 "metadata": {
  "kernelspec": {
   "display_name": "Python 3 (ipykernel)",
   "language": "python",
   "name": "python3"
  },
  "language_info": {
   "codemirror_mode": {
    "name": "ipython",
    "version": 3
   },
   "file_extension": ".py",
   "mimetype": "text/x-python",
   "name": "python",
   "nbconvert_exporter": "python",
   "pygments_lexer": "ipython3",
   "version": "3.9.13"
  }
 },
 "nbformat": 4,
 "nbformat_minor": 5
}
